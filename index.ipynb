{
 "cells": [
  {
   "cell_type": "markdown",
   "metadata": {},
   "source": [
    "# Transaction Serialization"
   ]
  },
  {
   "cell_type": "markdown",
   "metadata": {},
   "source": [
    "We’re going to serialize the TxOut object to a bunch of bytes.\n",
    "\n",
    "Here is the serialize method for `TxOut`\n",
    "\n",
    "```python\n",
    "    def serialize(self):\n",
    "        '''Returns the byte serialization of the transaction output'''\n",
    "        # serialize amount, 8 bytes, little endian\n",
    "        result = int_to_little_endian(self.amount, 8)\n",
    "        # get the scriptPubkey ready (use self.script_pubkey.serialize())\n",
    "        raw_script_pubkey = self.script_pubkey.serialize()\n",
    "        # encode_varint on the length of the scriptPubkey\n",
    "        result += encode_varint(len(raw_script_pubkey))\n",
    "        # add the scriptPubKey\n",
    "        result += raw_script_pubkey\n",
    "        return result\n",
    "```\n",
    "The main thing to note here is that the amount is interpreted as little endian. As explained before, little endian is what Satoshi used in most places, including amount."
   ]
  },
  {
   "cell_type": "markdown",
   "metadata": {},
   "source": [
    "Here is the serialize method for `TxIn`:\n",
    "\n",
    "```python\n",
    "    def serialize(self):\n",
    "        '''Returns the byte serialization of the transaction input'''\n",
    "        # serialize prev_tx, little endian\n",
    "        result = self.prev_tx[::-1]\n",
    "        # serialize prev_index, 4 bytes, little endian\n",
    "        result += int_to_little_endian(self.prev_index, 4)\n",
    "        # get the scriptSig ready (use self.script_sig.serialize())\n",
    "        raw_script_sig = self.script_sig.serialize()\n",
    "        # encode_varint on the length of the scriptSig\n",
    "        result += encode_varint(len(raw_script_sig))\n",
    "        # add the scriptSig\n",
    "        result += raw_script_sig\n",
    "        # serialize sequence, 4 bytes, little endian\n",
    "        result += int_to_little_endian(self.sequence, 4)\n",
    "        return result\n",
    "```\n",
    "\n",
    "Once again, the previous transaction, previous index and sequence fields are all in little endian. Previous transaction in particular is tricky as the hexadecimal representation is typically what’s used in block explorers. However, block explorers require the transaction id in big endian, as opposed to what’s specified in the transaction."
   ]
  },
  {
   "cell_type": "markdown",
   "metadata": {},
   "source": [
    "### Test Driven Exercise\n",
    "\n",
    "Now let's write the `serialize()` method for the `Tx` object itself."
   ]
  },
  {
   "cell_type": "code",
   "execution_count": null,
   "metadata": {},
   "outputs": [],
   "source": [
    "import requests\n",
    "from io import BytesIO\n",
    "from tx import Tx\n",
    "from helper import (\n",
    "    encode_varint,\n",
    "    int_to_little_endian,\n",
    "    little_endian_to_int\n",
    ")\n",
    "\n",
    "class Tx(Tx):\n",
    "\n",
    "    def serialize(self):\n",
    "        '''Returns the byte serialization of the transaction'''\n",
    "        # serialize version (4 bytes, little endian)\n",
    "        # encode_varint on the number of inputs\n",
    "        # iterate inputs\n",
    "            # serialize each input\n",
    "        # encode_varint on the number of outputs\n",
    "        # iterate outputs\n",
    "            # serialize each output\n",
    "        # serialize locktime (4 bytes, little endian)\n",
    "        pass"
   ]
  },
  {
   "cell_type": "markdown",
   "metadata": {},
   "source": [
    "One thing that might be interesting to note is that the transaction fee is not specified anywhere! This is because it’s an implied amount. It’s the total of the inputs amounts minus the total of the output amounts."
   ]
  }
 ],
 "metadata": {
  "kernelspec": {
   "display_name": "Python 3",
   "language": "python",
   "name": "python3"
  },
  "language_info": {
   "codemirror_mode": {
    "name": "ipython",
    "version": 3
   },
   "file_extension": ".py",
   "mimetype": "text/x-python",
   "name": "python",
   "nbconvert_exporter": "python",
   "pygments_lexer": "ipython3",
   "version": "3.6.6"
  }
 },
 "nbformat": 4,
 "nbformat_minor": 2
}
